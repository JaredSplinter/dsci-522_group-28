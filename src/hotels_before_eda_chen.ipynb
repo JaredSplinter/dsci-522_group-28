{
 "cells": [
  {
   "cell_type": "code",
   "execution_count": 1,
   "metadata": {},
   "outputs": [],
   "source": [
    "# Setup:\n",
    "\n",
    "# common packages\n",
    "import numpy as np\n",
    "import pandas as pd\n",
    "import random\n",
    "\n",
    "# ML packages\n",
    "from sklearn.model_selection import cross_val_score, cross_validate, train_test_split\n",
    "\n",
    "# Visualization packages\n",
    "import altair as alt\n",
    "# Save a vega-lite spec and a PNG blob for each plot in the notebook\n",
    "alt.renderers.enable('mimetype')\n",
    "# Handle large data sets without embedding them in the notebook\n",
    "alt.data_transformers.enable('data_server')\n",
    "\n",
    "# display options\n",
    "\n",
    "# seed setup\n",
    "seed = 2020"
   ]
  },
  {
   "cell_type": "code",
   "execution_count": 2,
   "metadata": {},
   "outputs": [],
   "source": [
    "# Load data:\n",
    "hotels_df = pd.read_csv(\"../data/raw/hotels_dataset.csv\")"
   ]
  },
  {
   "cell_type": "code",
   "execution_count": 3,
   "metadata": {},
   "outputs": [
    {
     "data": {
      "text/plain": [
       "(119390, 32)"
      ]
     },
     "execution_count": 3,
     "metadata": {},
     "output_type": "execute_result"
    }
   ],
   "source": [
    "# Check full data:\n",
    "hotels_df.shape"
   ]
  },
  {
   "cell_type": "code",
   "execution_count": 4,
   "metadata": {},
   "outputs": [
    {
     "data": {
      "text/plain": [
       "(40060, 32)"
      ]
     },
     "execution_count": 4,
     "metadata": {},
     "output_type": "execute_result"
    }
   ],
   "source": [
    "# Number of observations for the resort rotel\n",
    "resort = hotels_df.loc[(hotels_df[\"hotel\"] == \"Resort Hotel\")]\n",
    "resort.shape"
   ]
  },
  {
   "cell_type": "code",
   "execution_count": 5,
   "metadata": {},
   "outputs": [
    {
     "data": {
      "text/plain": [
       "(79330, 32)"
      ]
     },
     "execution_count": 5,
     "metadata": {},
     "output_type": "execute_result"
    }
   ],
   "source": [
    "# Number of observations for the city rotel\n",
    "city = hotels_df.loc[(hotels_df[\"hotel\"] == \"City Hotel\")]\n",
    "city.shape"
   ]
  },
  {
   "cell_type": "markdown",
   "metadata": {},
   "source": [
    "## Summary of the data set\n",
    "\n",
    "The data set used in this project comes from the Hotel Booking demand datasets from [Antonio, Almeida and Nunes, 2019](https://www.sciencedirect.com/science/article/pii/S2352340918315191#ack0005) and the data can be found from the GitHub Repository [here](https://github.com/rfordatascience/tidytuesday/tree/master/data/2020/2020-02-11). The dataset contains real world data obtained from two hotels: one resort hotel and one city hotel. Each row represents an individual hotel booking due to arrive between July 1st, 2015 and August 31st, 2017. There are 119390 observations in the data set, and 31 features. The following table shows the counts of observations for each hotel. \n",
    "\n",
    "| Resort Hotel | City Hotel |\n",
    "| -----------: | ---------: |\n",
    "|        40060 |      79330 |\n",
    "\n",
    "Table 1: Counts of observation for each hotel. "
   ]
  },
  {
   "cell_type": "code",
   "execution_count": 6,
   "metadata": {},
   "outputs": [],
   "source": [
    "# Split data:\n",
    "# 80% of observations are in the training and 20% of observations are in the test set\n",
    "train_df, test_df = train_test_split(hotels_df, test_size=0.2, random_state=seed)"
   ]
  },
  {
   "cell_type": "code",
   "execution_count": 7,
   "metadata": {},
   "outputs": [
    {
     "data": {
      "text/html": [
       "<div>\n",
       "<style scoped>\n",
       "    .dataframe tbody tr th:only-of-type {\n",
       "        vertical-align: middle;\n",
       "    }\n",
       "\n",
       "    .dataframe tbody tr th {\n",
       "        vertical-align: top;\n",
       "    }\n",
       "\n",
       "    .dataframe thead th {\n",
       "        text-align: right;\n",
       "    }\n",
       "</style>\n",
       "<table border=\"1\" class=\"dataframe\">\n",
       "  <thead>\n",
       "    <tr style=\"text-align: right;\">\n",
       "      <th></th>\n",
       "      <th>hotel</th>\n",
       "      <th>is_canceled</th>\n",
       "      <th>lead_time</th>\n",
       "      <th>arrival_date_year</th>\n",
       "      <th>arrival_date_month</th>\n",
       "      <th>arrival_date_week_number</th>\n",
       "      <th>arrival_date_day_of_month</th>\n",
       "      <th>stays_in_weekend_nights</th>\n",
       "      <th>stays_in_week_nights</th>\n",
       "      <th>adults</th>\n",
       "      <th>...</th>\n",
       "      <th>deposit_type</th>\n",
       "      <th>agent</th>\n",
       "      <th>company</th>\n",
       "      <th>days_in_waiting_list</th>\n",
       "      <th>customer_type</th>\n",
       "      <th>adr</th>\n",
       "      <th>required_car_parking_spaces</th>\n",
       "      <th>total_of_special_requests</th>\n",
       "      <th>reservation_status</th>\n",
       "      <th>reservation_status_date</th>\n",
       "    </tr>\n",
       "  </thead>\n",
       "  <tbody>\n",
       "    <tr>\n",
       "      <th>74159</th>\n",
       "      <td>City Hotel</td>\n",
       "      <td>1</td>\n",
       "      <td>349</td>\n",
       "      <td>2015</td>\n",
       "      <td>October</td>\n",
       "      <td>40</td>\n",
       "      <td>1</td>\n",
       "      <td>0</td>\n",
       "      <td>2</td>\n",
       "      <td>2</td>\n",
       "      <td>...</td>\n",
       "      <td>Non Refund</td>\n",
       "      <td>1.0</td>\n",
       "      <td>NaN</td>\n",
       "      <td>0</td>\n",
       "      <td>Contract</td>\n",
       "      <td>62.00</td>\n",
       "      <td>0</td>\n",
       "      <td>0</td>\n",
       "      <td>Canceled</td>\n",
       "      <td>2015-01-01</td>\n",
       "    </tr>\n",
       "    <tr>\n",
       "      <th>59282</th>\n",
       "      <td>City Hotel</td>\n",
       "      <td>1</td>\n",
       "      <td>254</td>\n",
       "      <td>2016</td>\n",
       "      <td>October</td>\n",
       "      <td>44</td>\n",
       "      <td>25</td>\n",
       "      <td>0</td>\n",
       "      <td>5</td>\n",
       "      <td>2</td>\n",
       "      <td>...</td>\n",
       "      <td>No Deposit</td>\n",
       "      <td>9.0</td>\n",
       "      <td>NaN</td>\n",
       "      <td>0</td>\n",
       "      <td>Transient</td>\n",
       "      <td>90.95</td>\n",
       "      <td>0</td>\n",
       "      <td>0</td>\n",
       "      <td>Canceled</td>\n",
       "      <td>2016-02-17</td>\n",
       "    </tr>\n",
       "    <tr>\n",
       "      <th>56463</th>\n",
       "      <td>City Hotel</td>\n",
       "      <td>1</td>\n",
       "      <td>174</td>\n",
       "      <td>2016</td>\n",
       "      <td>September</td>\n",
       "      <td>37</td>\n",
       "      <td>7</td>\n",
       "      <td>0</td>\n",
       "      <td>1</td>\n",
       "      <td>2</td>\n",
       "      <td>...</td>\n",
       "      <td>No Deposit</td>\n",
       "      <td>9.0</td>\n",
       "      <td>NaN</td>\n",
       "      <td>0</td>\n",
       "      <td>Transient</td>\n",
       "      <td>126.90</td>\n",
       "      <td>0</td>\n",
       "      <td>2</td>\n",
       "      <td>Canceled</td>\n",
       "      <td>2016-08-24</td>\n",
       "    </tr>\n",
       "    <tr>\n",
       "      <th>94823</th>\n",
       "      <td>City Hotel</td>\n",
       "      <td>0</td>\n",
       "      <td>169</td>\n",
       "      <td>2016</td>\n",
       "      <td>August</td>\n",
       "      <td>32</td>\n",
       "      <td>5</td>\n",
       "      <td>2</td>\n",
       "      <td>4</td>\n",
       "      <td>2</td>\n",
       "      <td>...</td>\n",
       "      <td>No Deposit</td>\n",
       "      <td>9.0</td>\n",
       "      <td>NaN</td>\n",
       "      <td>0</td>\n",
       "      <td>Transient</td>\n",
       "      <td>99.45</td>\n",
       "      <td>0</td>\n",
       "      <td>1</td>\n",
       "      <td>Check-Out</td>\n",
       "      <td>2016-08-11</td>\n",
       "    </tr>\n",
       "    <tr>\n",
       "      <th>247</th>\n",
       "      <td>Resort Hotel</td>\n",
       "      <td>1</td>\n",
       "      <td>69</td>\n",
       "      <td>2015</td>\n",
       "      <td>July</td>\n",
       "      <td>28</td>\n",
       "      <td>9</td>\n",
       "      <td>2</td>\n",
       "      <td>6</td>\n",
       "      <td>2</td>\n",
       "      <td>...</td>\n",
       "      <td>No Deposit</td>\n",
       "      <td>240.0</td>\n",
       "      <td>NaN</td>\n",
       "      <td>0</td>\n",
       "      <td>Transient</td>\n",
       "      <td>118.13</td>\n",
       "      <td>0</td>\n",
       "      <td>2</td>\n",
       "      <td>Canceled</td>\n",
       "      <td>2015-05-13</td>\n",
       "    </tr>\n",
       "  </tbody>\n",
       "</table>\n",
       "<p>5 rows × 32 columns</p>\n",
       "</div>"
      ],
      "text/plain": [
       "              hotel  is_canceled  lead_time  arrival_date_year  \\\n",
       "74159    City Hotel            1        349               2015   \n",
       "59282    City Hotel            1        254               2016   \n",
       "56463    City Hotel            1        174               2016   \n",
       "94823    City Hotel            0        169               2016   \n",
       "247    Resort Hotel            1         69               2015   \n",
       "\n",
       "      arrival_date_month  arrival_date_week_number  arrival_date_day_of_month  \\\n",
       "74159            October                        40                          1   \n",
       "59282            October                        44                         25   \n",
       "56463          September                        37                          7   \n",
       "94823             August                        32                          5   \n",
       "247                 July                        28                          9   \n",
       "\n",
       "       stays_in_weekend_nights  stays_in_week_nights  adults  ...  \\\n",
       "74159                        0                     2       2  ...   \n",
       "59282                        0                     5       2  ...   \n",
       "56463                        0                     1       2  ...   \n",
       "94823                        2                     4       2  ...   \n",
       "247                          2                     6       2  ...   \n",
       "\n",
       "       deposit_type  agent company days_in_waiting_list customer_type     adr  \\\n",
       "74159    Non Refund    1.0     NaN                    0      Contract   62.00   \n",
       "59282    No Deposit    9.0     NaN                    0     Transient   90.95   \n",
       "56463    No Deposit    9.0     NaN                    0     Transient  126.90   \n",
       "94823    No Deposit    9.0     NaN                    0     Transient   99.45   \n",
       "247      No Deposit  240.0     NaN                    0     Transient  118.13   \n",
       "\n",
       "       required_car_parking_spaces  total_of_special_requests  \\\n",
       "74159                            0                          0   \n",
       "59282                            0                          0   \n",
       "56463                            0                          2   \n",
       "94823                            0                          1   \n",
       "247                              0                          2   \n",
       "\n",
       "       reservation_status reservation_status_date  \n",
       "74159            Canceled              2015-01-01  \n",
       "59282            Canceled              2016-02-17  \n",
       "56463            Canceled              2016-08-24  \n",
       "94823           Check-Out              2016-08-11  \n",
       "247              Canceled              2015-05-13  \n",
       "\n",
       "[5 rows x 32 columns]"
      ]
     },
     "execution_count": 7,
     "metadata": {},
     "output_type": "execute_result"
    }
   ],
   "source": [
    "# Data inspection:\n",
    "train_df.head()"
   ]
  },
  {
   "cell_type": "code",
   "execution_count": 8,
   "metadata": {},
   "outputs": [
    {
     "data": {
      "text/html": [
       "<div>\n",
       "<style scoped>\n",
       "    .dataframe tbody tr th:only-of-type {\n",
       "        vertical-align: middle;\n",
       "    }\n",
       "\n",
       "    .dataframe tbody tr th {\n",
       "        vertical-align: top;\n",
       "    }\n",
       "\n",
       "    .dataframe thead th {\n",
       "        text-align: right;\n",
       "    }\n",
       "</style>\n",
       "<table border=\"1\" class=\"dataframe\">\n",
       "  <thead>\n",
       "    <tr style=\"text-align: right;\">\n",
       "      <th></th>\n",
       "      <th>is_canceled</th>\n",
       "      <th>lead_time</th>\n",
       "      <th>arrival_date_year</th>\n",
       "      <th>arrival_date_week_number</th>\n",
       "      <th>arrival_date_day_of_month</th>\n",
       "      <th>stays_in_weekend_nights</th>\n",
       "      <th>stays_in_week_nights</th>\n",
       "      <th>adults</th>\n",
       "      <th>children</th>\n",
       "      <th>babies</th>\n",
       "      <th>is_repeated_guest</th>\n",
       "      <th>previous_cancellations</th>\n",
       "      <th>previous_bookings_not_canceled</th>\n",
       "      <th>booking_changes</th>\n",
       "      <th>agent</th>\n",
       "      <th>company</th>\n",
       "      <th>days_in_waiting_list</th>\n",
       "      <th>adr</th>\n",
       "      <th>required_car_parking_spaces</th>\n",
       "      <th>total_of_special_requests</th>\n",
       "    </tr>\n",
       "  </thead>\n",
       "  <tbody>\n",
       "    <tr>\n",
       "      <th>count</th>\n",
       "      <td>95512.000000</td>\n",
       "      <td>95512.000000</td>\n",
       "      <td>95512.000000</td>\n",
       "      <td>95512.000000</td>\n",
       "      <td>95512.000000</td>\n",
       "      <td>95512.000000</td>\n",
       "      <td>95512.000000</td>\n",
       "      <td>95512.000000</td>\n",
       "      <td>95508.000000</td>\n",
       "      <td>95512.000000</td>\n",
       "      <td>95512.000000</td>\n",
       "      <td>95512.000000</td>\n",
       "      <td>95512.000000</td>\n",
       "      <td>95512.000000</td>\n",
       "      <td>82411.000000</td>\n",
       "      <td>5441.000000</td>\n",
       "      <td>95512.000000</td>\n",
       "      <td>95512.000000</td>\n",
       "      <td>95512.000000</td>\n",
       "      <td>95512.000000</td>\n",
       "    </tr>\n",
       "    <tr>\n",
       "      <th>mean</th>\n",
       "      <td>0.370707</td>\n",
       "      <td>104.108049</td>\n",
       "      <td>2016.157907</td>\n",
       "      <td>27.162430</td>\n",
       "      <td>15.792717</td>\n",
       "      <td>0.927171</td>\n",
       "      <td>2.499246</td>\n",
       "      <td>1.855421</td>\n",
       "      <td>0.103552</td>\n",
       "      <td>0.007873</td>\n",
       "      <td>0.031609</td>\n",
       "      <td>0.088282</td>\n",
       "      <td>0.136684</td>\n",
       "      <td>0.221899</td>\n",
       "      <td>86.547136</td>\n",
       "      <td>188.947988</td>\n",
       "      <td>2.284278</td>\n",
       "      <td>101.701882</td>\n",
       "      <td>0.062568</td>\n",
       "      <td>0.570975</td>\n",
       "    </tr>\n",
       "    <tr>\n",
       "      <th>std</th>\n",
       "      <td>0.482997</td>\n",
       "      <td>106.774050</td>\n",
       "      <td>0.706551</td>\n",
       "      <td>13.615684</td>\n",
       "      <td>8.773898</td>\n",
       "      <td>1.000599</td>\n",
       "      <td>1.913424</td>\n",
       "      <td>0.589122</td>\n",
       "      <td>0.398279</td>\n",
       "      <td>0.094784</td>\n",
       "      <td>0.174957</td>\n",
       "      <td>0.870309</td>\n",
       "      <td>1.479877</td>\n",
       "      <td>0.658002</td>\n",
       "      <td>110.632486</td>\n",
       "      <td>131.549836</td>\n",
       "      <td>17.314980</td>\n",
       "      <td>51.089236</td>\n",
       "      <td>0.245705</td>\n",
       "      <td>0.792781</td>\n",
       "    </tr>\n",
       "    <tr>\n",
       "      <th>min</th>\n",
       "      <td>0.000000</td>\n",
       "      <td>0.000000</td>\n",
       "      <td>2015.000000</td>\n",
       "      <td>1.000000</td>\n",
       "      <td>1.000000</td>\n",
       "      <td>0.000000</td>\n",
       "      <td>0.000000</td>\n",
       "      <td>0.000000</td>\n",
       "      <td>0.000000</td>\n",
       "      <td>0.000000</td>\n",
       "      <td>0.000000</td>\n",
       "      <td>0.000000</td>\n",
       "      <td>0.000000</td>\n",
       "      <td>0.000000</td>\n",
       "      <td>1.000000</td>\n",
       "      <td>6.000000</td>\n",
       "      <td>0.000000</td>\n",
       "      <td>0.000000</td>\n",
       "      <td>0.000000</td>\n",
       "      <td>0.000000</td>\n",
       "    </tr>\n",
       "    <tr>\n",
       "      <th>25%</th>\n",
       "      <td>0.000000</td>\n",
       "      <td>18.000000</td>\n",
       "      <td>2016.000000</td>\n",
       "      <td>16.000000</td>\n",
       "      <td>8.000000</td>\n",
       "      <td>0.000000</td>\n",
       "      <td>1.000000</td>\n",
       "      <td>2.000000</td>\n",
       "      <td>0.000000</td>\n",
       "      <td>0.000000</td>\n",
       "      <td>0.000000</td>\n",
       "      <td>0.000000</td>\n",
       "      <td>0.000000</td>\n",
       "      <td>0.000000</td>\n",
       "      <td>9.000000</td>\n",
       "      <td>62.000000</td>\n",
       "      <td>0.000000</td>\n",
       "      <td>69.000000</td>\n",
       "      <td>0.000000</td>\n",
       "      <td>0.000000</td>\n",
       "    </tr>\n",
       "    <tr>\n",
       "      <th>50%</th>\n",
       "      <td>0.000000</td>\n",
       "      <td>69.000000</td>\n",
       "      <td>2016.000000</td>\n",
       "      <td>28.000000</td>\n",
       "      <td>16.000000</td>\n",
       "      <td>1.000000</td>\n",
       "      <td>2.000000</td>\n",
       "      <td>2.000000</td>\n",
       "      <td>0.000000</td>\n",
       "      <td>0.000000</td>\n",
       "      <td>0.000000</td>\n",
       "      <td>0.000000</td>\n",
       "      <td>0.000000</td>\n",
       "      <td>0.000000</td>\n",
       "      <td>14.000000</td>\n",
       "      <td>179.000000</td>\n",
       "      <td>0.000000</td>\n",
       "      <td>94.500000</td>\n",
       "      <td>0.000000</td>\n",
       "      <td>0.000000</td>\n",
       "    </tr>\n",
       "    <tr>\n",
       "      <th>75%</th>\n",
       "      <td>1.000000</td>\n",
       "      <td>161.000000</td>\n",
       "      <td>2017.000000</td>\n",
       "      <td>38.000000</td>\n",
       "      <td>23.000000</td>\n",
       "      <td>2.000000</td>\n",
       "      <td>3.000000</td>\n",
       "      <td>2.000000</td>\n",
       "      <td>0.000000</td>\n",
       "      <td>0.000000</td>\n",
       "      <td>0.000000</td>\n",
       "      <td>0.000000</td>\n",
       "      <td>0.000000</td>\n",
       "      <td>0.000000</td>\n",
       "      <td>229.000000</td>\n",
       "      <td>270.000000</td>\n",
       "      <td>0.000000</td>\n",
       "      <td>126.000000</td>\n",
       "      <td>0.000000</td>\n",
       "      <td>1.000000</td>\n",
       "    </tr>\n",
       "    <tr>\n",
       "      <th>max</th>\n",
       "      <td>1.000000</td>\n",
       "      <td>737.000000</td>\n",
       "      <td>2017.000000</td>\n",
       "      <td>53.000000</td>\n",
       "      <td>31.000000</td>\n",
       "      <td>19.000000</td>\n",
       "      <td>50.000000</td>\n",
       "      <td>55.000000</td>\n",
       "      <td>10.000000</td>\n",
       "      <td>10.000000</td>\n",
       "      <td>1.000000</td>\n",
       "      <td>26.000000</td>\n",
       "      <td>72.000000</td>\n",
       "      <td>21.000000</td>\n",
       "      <td>535.000000</td>\n",
       "      <td>543.000000</td>\n",
       "      <td>391.000000</td>\n",
       "      <td>5400.000000</td>\n",
       "      <td>8.000000</td>\n",
       "      <td>5.000000</td>\n",
       "    </tr>\n",
       "  </tbody>\n",
       "</table>\n",
       "</div>"
      ],
      "text/plain": [
       "        is_canceled     lead_time  arrival_date_year  \\\n",
       "count  95512.000000  95512.000000       95512.000000   \n",
       "mean       0.370707    104.108049        2016.157907   \n",
       "std        0.482997    106.774050           0.706551   \n",
       "min        0.000000      0.000000        2015.000000   \n",
       "25%        0.000000     18.000000        2016.000000   \n",
       "50%        0.000000     69.000000        2016.000000   \n",
       "75%        1.000000    161.000000        2017.000000   \n",
       "max        1.000000    737.000000        2017.000000   \n",
       "\n",
       "       arrival_date_week_number  arrival_date_day_of_month  \\\n",
       "count              95512.000000               95512.000000   \n",
       "mean                  27.162430                  15.792717   \n",
       "std                   13.615684                   8.773898   \n",
       "min                    1.000000                   1.000000   \n",
       "25%                   16.000000                   8.000000   \n",
       "50%                   28.000000                  16.000000   \n",
       "75%                   38.000000                  23.000000   \n",
       "max                   53.000000                  31.000000   \n",
       "\n",
       "       stays_in_weekend_nights  stays_in_week_nights        adults  \\\n",
       "count             95512.000000          95512.000000  95512.000000   \n",
       "mean                  0.927171              2.499246      1.855421   \n",
       "std                   1.000599              1.913424      0.589122   \n",
       "min                   0.000000              0.000000      0.000000   \n",
       "25%                   0.000000              1.000000      2.000000   \n",
       "50%                   1.000000              2.000000      2.000000   \n",
       "75%                   2.000000              3.000000      2.000000   \n",
       "max                  19.000000             50.000000     55.000000   \n",
       "\n",
       "           children        babies  is_repeated_guest  previous_cancellations  \\\n",
       "count  95508.000000  95512.000000       95512.000000            95512.000000   \n",
       "mean       0.103552      0.007873           0.031609                0.088282   \n",
       "std        0.398279      0.094784           0.174957                0.870309   \n",
       "min        0.000000      0.000000           0.000000                0.000000   \n",
       "25%        0.000000      0.000000           0.000000                0.000000   \n",
       "50%        0.000000      0.000000           0.000000                0.000000   \n",
       "75%        0.000000      0.000000           0.000000                0.000000   \n",
       "max       10.000000     10.000000           1.000000               26.000000   \n",
       "\n",
       "       previous_bookings_not_canceled  booking_changes         agent  \\\n",
       "count                    95512.000000     95512.000000  82411.000000   \n",
       "mean                         0.136684         0.221899     86.547136   \n",
       "std                          1.479877         0.658002    110.632486   \n",
       "min                          0.000000         0.000000      1.000000   \n",
       "25%                          0.000000         0.000000      9.000000   \n",
       "50%                          0.000000         0.000000     14.000000   \n",
       "75%                          0.000000         0.000000    229.000000   \n",
       "max                         72.000000        21.000000    535.000000   \n",
       "\n",
       "           company  days_in_waiting_list           adr  \\\n",
       "count  5441.000000          95512.000000  95512.000000   \n",
       "mean    188.947988              2.284278    101.701882   \n",
       "std     131.549836             17.314980     51.089236   \n",
       "min       6.000000              0.000000      0.000000   \n",
       "25%      62.000000              0.000000     69.000000   \n",
       "50%     179.000000              0.000000     94.500000   \n",
       "75%     270.000000              0.000000    126.000000   \n",
       "max     543.000000            391.000000   5400.000000   \n",
       "\n",
       "       required_car_parking_spaces  total_of_special_requests  \n",
       "count                 95512.000000               95512.000000  \n",
       "mean                      0.062568                   0.570975  \n",
       "std                       0.245705                   0.792781  \n",
       "min                       0.000000                   0.000000  \n",
       "25%                       0.000000                   0.000000  \n",
       "50%                       0.000000                   0.000000  \n",
       "75%                       0.000000                   1.000000  \n",
       "max                       8.000000                   5.000000  "
      ]
     },
     "execution_count": 8,
     "metadata": {},
     "output_type": "execute_result"
    }
   ],
   "source": [
    "# Data inspection:\n",
    "train_df.describe()"
   ]
  },
  {
   "cell_type": "code",
   "execution_count": 9,
   "metadata": {},
   "outputs": [
    {
     "name": "stdout",
     "output_type": "stream",
     "text": [
      "<class 'pandas.core.frame.DataFrame'>\n",
      "Int64Index: 95512 entries, 74159 to 41824\n",
      "Data columns (total 32 columns):\n",
      " #   Column                          Non-Null Count  Dtype  \n",
      "---  ------                          --------------  -----  \n",
      " 0   hotel                           95512 non-null  object \n",
      " 1   is_canceled                     95512 non-null  int64  \n",
      " 2   lead_time                       95512 non-null  int64  \n",
      " 3   arrival_date_year               95512 non-null  int64  \n",
      " 4   arrival_date_month              95512 non-null  object \n",
      " 5   arrival_date_week_number        95512 non-null  int64  \n",
      " 6   arrival_date_day_of_month       95512 non-null  int64  \n",
      " 7   stays_in_weekend_nights         95512 non-null  int64  \n",
      " 8   stays_in_week_nights            95512 non-null  int64  \n",
      " 9   adults                          95512 non-null  int64  \n",
      " 10  children                        95508 non-null  float64\n",
      " 11  babies                          95512 non-null  int64  \n",
      " 12  meal                            95512 non-null  object \n",
      " 13  country                         95129 non-null  object \n",
      " 14  market_segment                  95512 non-null  object \n",
      " 15  distribution_channel            95512 non-null  object \n",
      " 16  is_repeated_guest               95512 non-null  int64  \n",
      " 17  previous_cancellations          95512 non-null  int64  \n",
      " 18  previous_bookings_not_canceled  95512 non-null  int64  \n",
      " 19  reserved_room_type              95512 non-null  object \n",
      " 20  assigned_room_type              95512 non-null  object \n",
      " 21  booking_changes                 95512 non-null  int64  \n",
      " 22  deposit_type                    95512 non-null  object \n",
      " 23  agent                           82411 non-null  float64\n",
      " 24  company                         5441 non-null   float64\n",
      " 25  days_in_waiting_list            95512 non-null  int64  \n",
      " 26  customer_type                   95512 non-null  object \n",
      " 27  adr                             95512 non-null  float64\n",
      " 28  required_car_parking_spaces     95512 non-null  int64  \n",
      " 29  total_of_special_requests       95512 non-null  int64  \n",
      " 30  reservation_status              95512 non-null  object \n",
      " 31  reservation_status_date         95512 non-null  object \n",
      "dtypes: float64(4), int64(16), object(12)\n",
      "memory usage: 24.0+ MB\n"
     ]
    }
   ],
   "source": [
    "# Data inspection:\n",
    "train_df.info()"
   ]
  },
  {
   "cell_type": "code",
   "execution_count": 10,
   "metadata": {},
   "outputs": [
    {
     "name": "stdout",
     "output_type": "stream",
     "text": [
      "(31994, 32)\n",
      "(8066, 32)\n"
     ]
    }
   ],
   "source": [
    "# Number of observations for the resort rotel in training data set:\n",
    "train_df_resort = train_df.loc[(train_df[\"hotel\"] == \"Resort Hotel\")]\n",
    "print(train_df_resort.shape)\n",
    "test_df_resort = test_df.loc[(test_df[\"hotel\"] == \"Resort Hotel\")]\n",
    "print(test_df_resort.shape)"
   ]
  },
  {
   "cell_type": "code",
   "execution_count": 11,
   "metadata": {},
   "outputs": [
    {
     "name": "stdout",
     "output_type": "stream",
     "text": [
      "(63518, 32)\n",
      "(15812, 32)\n"
     ]
    }
   ],
   "source": [
    "# Number of observations for the city rotel in training data set:\n",
    "train_df_city = train_df.loc[(train_df[\"hotel\"] == \"City Hotel\")]\n",
    "print(train_df_city.shape)\n",
    "test_df_city = test_df.loc[(test_df[\"hotel\"] == \"City Hotel\")]\n",
    "print(test_df_city.shape)"
   ]
  },
  {
   "cell_type": "code",
   "execution_count": 12,
   "metadata": {},
   "outputs": [
    {
     "data": {
      "text/plain": [
       "hotel                                 0\n",
       "is_canceled                           0\n",
       "lead_time                             0\n",
       "arrival_date_year                     0\n",
       "arrival_date_month                    0\n",
       "arrival_date_week_number              0\n",
       "arrival_date_day_of_month             0\n",
       "stays_in_weekend_nights               0\n",
       "stays_in_week_nights                  0\n",
       "adults                                0\n",
       "children                              4\n",
       "babies                                0\n",
       "meal                                  0\n",
       "country                             383\n",
       "market_segment                        0\n",
       "distribution_channel                  0\n",
       "is_repeated_guest                     0\n",
       "previous_cancellations                0\n",
       "previous_bookings_not_canceled        0\n",
       "reserved_room_type                    0\n",
       "assigned_room_type                    0\n",
       "booking_changes                       0\n",
       "deposit_type                          0\n",
       "agent                             13101\n",
       "company                           90071\n",
       "days_in_waiting_list                  0\n",
       "customer_type                         0\n",
       "adr                                   0\n",
       "required_car_parking_spaces           0\n",
       "total_of_special_requests             0\n",
       "reservation_status                    0\n",
       "reservation_status_date               0\n",
       "dtype: int64"
      ]
     },
     "execution_count": 12,
     "metadata": {},
     "output_type": "execute_result"
    }
   ],
   "source": [
    "# Check missing values:\n",
    "train_df.isnull().sum()"
   ]
  },
  {
   "cell_type": "code",
   "execution_count": 13,
   "metadata": {},
   "outputs": [],
   "source": [
    "# Replace missing values:\n",
    "# for \"agent\": if no agency is given, we assume the booking was made without agency.\n",
    "# for \"company\": if no company is given, we assume the booking was made by individuals.\n",
    "replacements = {\"children:\": 0.0, \"country\": \"Unknown\", \"agent\": 0, \"company\": 0}\n",
    "train_df_nan = train_df.fillna(replacements)\n",
    "\n",
    "# Combine same meaning values:\n",
    "# for \"meal\": \"undefined\" and \"SC\" have the same meaning\n",
    "train_df_nan[\"meal\"].replace(\"Undefined\", \"SC\", inplace=True)\n",
    "\n",
    "# Some rooms have 0 adults, 0 children and 0 babies,\n",
    "# uncomment below to drop these \"ghost\" rooms\n",
    "# empty_room = list(full_data_cln.loc[full_data_cln[\"adults\"]\n",
    "#                    + full_data_cln[\"children\"]\n",
    "#                    + full_data_cln[\"babies\"]==0].index)\n",
    "# full_data_cln.drop(full_data_cln.index[empty_room], inplace=True)"
   ]
  },
  {
   "cell_type": "code",
   "execution_count": 14,
   "metadata": {},
   "outputs": [
    {
     "data": {
      "text/plain": [
       "(95512, 32)"
      ]
     },
     "execution_count": 14,
     "metadata": {},
     "output_type": "execute_result"
    }
   ],
   "source": [
    "# Check data left:\n",
    "train_df_nan.shape"
   ]
  },
  {
   "cell_type": "markdown",
   "metadata": {},
   "source": [
    "## Splitting the data set into training and test data sets\n",
    "\n",
    "- 80% of observations are in the training and 20% of observations are in the test set\n",
    "\n",
    "| Data partition | Resort Hotel | City Hotel |\n",
    "| :------------- | -----------: | ---------: |\n",
    "| Training       |        31994 |      63518 |\n",
    "| Test           |         8066 |      15812 |\n",
    "\n",
    "Table 2: Counts of observation for each hotel for each data partition\n",
    "\n",
    "- minor class imbalance\n",
    "- There are 4 observations with missing values in `children` variable, replaced with 0; \n",
    "- 383 observations with missing values in `country` variable, replaced with \"Unknown\"; \n",
    "- 13101 observations with missing values in `agent` variable, replaced with 0, as we assume those bookings were made without agency; \n",
    "- 90071 observations with missing values in `company` variable, replaced with 0, as we assume those bookings was made by individuals. "
   ]
  },
  {
   "cell_type": "markdown",
   "metadata": {},
   "source": [
    "## Exploratory data analysis on the training data set"
   ]
  },
  {
   "cell_type": "code",
   "execution_count": 15,
   "metadata": {},
   "outputs": [],
   "source": [
    "# Split the features and targets:\n",
    "X_train = train_df_nan.drop([\"is_canceled\"], axis=1)\n",
    "y_train = train_df_nan[\"is_canceled\"]\n",
    "X_test = test_df.drop([\"is_canceled\"], axis=1)\n",
    "y_test = test_df[\"is_canceled\"]"
   ]
  },
  {
   "cell_type": "code",
   "execution_count": 16,
   "metadata": {},
   "outputs": [],
   "source": [
    "# Seperate Resort adn City Hotel:\n",
    "resort_train = X_train.loc[(X_train[\"hotel\"] == \"Resort Hotel\")].copy()\n",
    "city_train = X_train.loc[(X_train[\"hotel\"] == \"City Hotel\")].copy()"
   ]
  },
  {
   "cell_type": "code",
   "execution_count": 17,
   "metadata": {},
   "outputs": [
    {
     "data": {
      "application/vnd.vegalite.v4+json": {
       "$schema": "https://vega.github.io/schema/vega-lite/v4.8.1.json",
       "config": {
        "axis": {
         "labelFontSize": 10,
         "titleFontSize": 12
        },
        "title": {
         "fontSize": 15
        },
        "view": {
         "continuousHeight": 300,
         "continuousWidth": 400
        }
       },
       "data": {
        "url": "http://localhost:23807/1e686e896f6c2f50e069e634247b1338.json"
       },
       "encoding": {
        "tooltip": {
         "field": "country",
         "type": "nominal"
        },
        "x": {
         "field": "counts",
         "title": "Guests numbers",
         "type": "quantitative"
        },
        "y": {
         "field": "country",
         "sort": "-x",
         "title": "Country",
         "type": "nominal"
        }
       },
       "mark": "bar",
       "title": "Top 20 home country of guests"
      },
      "image/png": "[encoded data removed]",
      "text/plain": [
       "<VegaLite 4 object>\n",
       "\n",
       "If you see this message, it means the renderer has not been properly enabled\n",
       "for the frontend that you are using. For more information, see\n",
       "https://altair-viz.github.io/user_guide/troubleshooting.html\n"
      ]
     },
     "execution_count": 17,
     "metadata": {},
     "output_type": "execute_result"
    }
   ],
   "source": [
    "top_20_countries = (\n",
    "    X_train.groupby(\"country\")\n",
    "    .size()\n",
    "    .reset_index(name=\"counts\")\n",
    "    .sort_values(by=\"counts\", ascending=False)[:20]\n",
    ")\n",
    "\n",
    "alt.Chart(top_20_countries, title=\"Top 20 home country of guests\").mark_bar().encode(\n",
    "    alt.X(\"counts\", title=\"Guests numbers\"),\n",
    "    alt.Y(\"country\", sort=\"-x\", title=\"Country\"),\n",
    "    alt.Tooltip(\"country\"),\n",
    ").configure_axis(labelFontSize=10, titleFontSize=12).configure_title(fontSize=15)"
   ]
  },
  {
   "cell_type": "code",
   "execution_count": 18,
   "metadata": {},
   "outputs": [
    {
     "data": {
      "application/vnd.vegalite.v4+json": {
       "$schema": "https://vega.github.io/schema/vega-lite/v4.8.1.json",
       "columns": 2,
       "config": {
        "axis": {
         "labelFontSize": 10,
         "titleFontSize": 12
        },
        "title": {
         "fontSize": 15
        },
        "view": {
         "continuousHeight": 300,
         "continuousWidth": 400
        }
       },
       "data": {
        "url": "http://localhost:23807/7f95d3acb1204f11c71392fe80d6c890.json"
       },
       "facet": {
        "field": "reserved_room_type",
        "type": "nominal"
       },
       "spec": {
        "encoding": {
         "color": {
          "field": "hotel",
          "type": "nominal"
         },
         "x": {
          "field": "adr_ac",
          "scale": {
           "domain": [
            0,
            120
           ]
          },
          "title": "Price [EUR]",
          "type": "quantitative"
         },
         "y": {
          "field": "hotel",
          "title": "Hotel",
          "type": "nominal"
         }
        },
        "mark": {
         "clip": true,
         "extent": "min-max",
         "type": "boxplot"
        }
       },
       "title": "Price per night and person for different room types"
      },
      "image/png": "[encoded data removed]",
      "text/plain": [
       "<VegaLite 4 object>\n",
       "\n",
       "If you see this message, it means the renderer has not been properly enabled\n",
       "for the frontend that you are using. For more information, see\n",
       "https://altair-viz.github.io/user_guide/troubleshooting.html\n"
      ]
     },
     "execution_count": 18,
     "metadata": {},
     "output_type": "execute_result"
    }
   ],
   "source": [
    "# Counting adults and children as paying guests only, not babies.\n",
    "\n",
    "X_train[\"adr_ac\"] = X_train[\"adr\"] / (X_train[\"adults\"] + X_train[\"children\"])\n",
    "room_price = X_train[[\"hotel\", \"reserved_room_type\", \"adr_ac\"]].sort_values(\n",
    "    \"reserved_room_type\"\n",
    ")\n",
    "\n",
    "alt.Chart(room_price).mark_boxplot(extent=\"min-max\", clip=True).encode(\n",
    "    alt.X(\"adr_ac\", title=\"Price [EUR]\", scale=alt.Scale(domain=(0, 120))),\n",
    "    alt.Y(\"hotel\", title=\"Hotel\"),\n",
    "    color=\"hotel\",\n",
    ").facet(\n",
    "    \"reserved_room_type\",\n",
    "    columns=2,\n",
    "    title=\"Price per night and person for different room types\",\n",
    ").configure_axis(\n",
    "    labelFontSize=10, titleFontSize=12\n",
    ").configure_title(\n",
    "    fontSize=15\n",
    ")"
   ]
  },
  {
   "cell_type": "code",
   "execution_count": 19,
   "metadata": {},
   "outputs": [
    {
     "data": {
      "application/vnd.vegalite.v4+json": {
       "$schema": "https://vega.github.io/schema/vega-lite/v4.8.1.json",
       "config": {
        "axis": {
         "labelFontSize": 10,
         "titleFontSize": 12
        },
        "title": {
         "fontSize": 15
        },
        "view": {
         "continuousHeight": 300,
         "continuousWidth": 400
        }
       },
       "data": {
        "url": "http://localhost:23807/abb3e8726e6f03ff3fb7b0e8243ab5a1.json"
       },
       "facet": {
        "field": "hotel",
        "type": "nominal"
       },
       "spec": {
        "encoding": {
         "color": {
          "field": "hotel",
          "type": "nominal"
         },
         "x": {
          "field": "num_nights",
          "title": "Number of nights",
          "type": "quantitative"
         },
         "y": {
          "field": "rel_num_bookings",
          "title": "Percent of guests",
          "type": "quantitative"
         }
        },
        "mark": "bar"
       },
       "title": "Length of guests stay"
      },
      "image/png": "[encoded data removed]",
      "text/plain": [
       "<VegaLite 4 object>\n",
       "\n",
       "If you see this message, it means the renderer has not been properly enabled\n",
       "for the frontend that you are using. For more information, see\n",
       "https://altair-viz.github.io/user_guide/troubleshooting.html\n"
      ]
     },
     "execution_count": 19,
     "metadata": {},
     "output_type": "execute_result"
    }
   ],
   "source": [
    "resort_train[\"total_nights\"] = (\n",
    "    resort_train[\"stays_in_weekend_nights\"] + resort_train[\"stays_in_week_nights\"]\n",
    ")\n",
    "city_train[\"total_nights\"] = (\n",
    "    city_train[\"stays_in_weekend_nights\"] + city_train[\"stays_in_week_nights\"]\n",
    ")\n",
    "\n",
    "num_nights_resort = list(resort_train[\"total_nights\"].value_counts().index)\n",
    "num_bookings_resort = list(resort_train[\"total_nights\"].value_counts())\n",
    "rel_bookings_resort = (\n",
    "    resort_train[\"total_nights\"].value_counts() / sum(num_bookings_resort) * 100\n",
    ")  # convert to percent\n",
    "\n",
    "num_nights_city = list(city_train[\"total_nights\"].value_counts().index)\n",
    "num_bookings_city = list(city_train[\"total_nights\"].value_counts())\n",
    "rel_bookings_city = (\n",
    "    city_train[\"total_nights\"].value_counts() / sum(num_bookings_city) * 100\n",
    ")  # convert to percent\n",
    "\n",
    "resort_nights = pd.DataFrame(\n",
    "    {\n",
    "        \"hotel\": \"Resort hotel\",\n",
    "        \"num_nights\": num_nights_resort,\n",
    "        \"rel_num_bookings\": rel_bookings_resort,\n",
    "    }\n",
    ")\n",
    "\n",
    "city_nights = pd.DataFrame(\n",
    "    {\n",
    "        \"hotel\": \"City hotel\",\n",
    "        \"num_nights\": num_nights_city,\n",
    "        \"rel_num_bookings\": rel_bookings_city,\n",
    "    }\n",
    ")\n",
    "\n",
    "nights_data = pd.concat([resort_nights, city_nights], ignore_index=True)\n",
    "nights_data\n",
    "\n",
    "alt.Chart(nights_data).mark_bar().encode(\n",
    "    alt.X(\"num_nights\", title=\"Number of nights\"),\n",
    "    alt.Y(\"rel_num_bookings\", title=\"Percent of guests\"),\n",
    "    color=\"hotel\",\n",
    ").facet(\"hotel\", title=\"Length of guests stay\").configure_axis(\n",
    "    labelFontSize=10, titleFontSize=12\n",
    ").configure_title(\n",
    "    fontSize=15\n",
    ")"
   ]
  },
  {
   "cell_type": "code",
   "execution_count": null,
   "metadata": {},
   "outputs": [],
   "source": []
  }
 ],
 "metadata": {
  "kernelspec": {
   "display_name": "Python [conda env:dsci573]",
   "language": "python",
   "name": "conda-env-dsci573-py"
  },
  "language_info": {
   "codemirror_mode": {
    "name": "ipython",
    "version": 3
   },
   "file_extension": ".py",
   "mimetype": "text/x-python",
   "name": "python",
   "nbconvert_exporter": "python",
   "pygments_lexer": "ipython3",
   "version": "3.8.6"
  }
 },
 "nbformat": 4,
 "nbformat_minor": 4
}
